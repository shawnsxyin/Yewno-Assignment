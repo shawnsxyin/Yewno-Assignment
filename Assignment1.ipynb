{
 "cells": [
  {
   "cell_type": "markdown",
   "metadata": {},
   "source": [
    "# Yewno Assignment"
   ]
  },
  {
   "cell_type": "markdown",
   "metadata": {},
   "source": [
    "## Question 1"
   ]
  },
  {
   "cell_type": "markdown",
   "metadata": {},
   "source": [
    "### Google Trend explain unemployment rate"
   ]
  },
  {
   "cell_type": "markdown",
   "metadata": {},
   "source": [
    "### 1) Google Trend data pull"
   ]
  },
  {
   "cell_type": "code",
   "execution_count": 35,
   "metadata": {},
   "outputs": [],
   "source": [
    "import pandas as pd\n",
    "from datetime import datetime, timedelta\n",
    "import matplotlib.pyplot as plt\n",
    "from statsmodels.stats.outliers_influence import variance_inflation_factor"
   ]
  },
  {
   "cell_type": "code",
   "execution_count": 5,
   "metadata": {},
   "outputs": [],
   "source": [
    "from pytrends.request import TrendReq\n",
    "pytrend = TrendReq(hl='en-US', tz=360)"
   ]
  },
  {
   "cell_type": "code",
   "execution_count": 6,
   "metadata": {},
   "outputs": [],
   "source": [
    "## keyword list\n",
    "kw_list = ['unemployment']\n",
    "## date range\n",
    "timeframe = '2004-11-01 2018-10-31'"
   ]
  },
  {
   "cell_type": "code",
   "execution_count": 7,
   "metadata": {},
   "outputs": [],
   "source": [
    "## pull out keyword trend given date range\n",
    "pytrend.build_payload(kw_list=kw_list, timeframe = timeframe)\n",
    "interest_over_time_df = pytrend.interest_over_time().drop(['isPartial'], axis=1)"
   ]
  },
  {
   "cell_type": "code",
   "execution_count": 8,
   "metadata": {},
   "outputs": [
    {
     "data": {
      "text/html": [
       "<div>\n",
       "<style scoped>\n",
       "    .dataframe tbody tr th:only-of-type {\n",
       "        vertical-align: middle;\n",
       "    }\n",
       "\n",
       "    .dataframe tbody tr th {\n",
       "        vertical-align: top;\n",
       "    }\n",
       "\n",
       "    .dataframe thead th {\n",
       "        text-align: right;\n",
       "    }\n",
       "</style>\n",
       "<table border=\"1\" class=\"dataframe\">\n",
       "  <thead>\n",
       "    <tr style=\"text-align: right;\">\n",
       "      <th></th>\n",
       "      <th>unemployment</th>\n",
       "    </tr>\n",
       "    <tr>\n",
       "      <th>date</th>\n",
       "      <th></th>\n",
       "    </tr>\n",
       "  </thead>\n",
       "  <tbody>\n",
       "    <tr>\n",
       "      <th>2004-11-01</th>\n",
       "      <td>28</td>\n",
       "    </tr>\n",
       "    <tr>\n",
       "      <th>2004-12-01</th>\n",
       "      <td>26</td>\n",
       "    </tr>\n",
       "    <tr>\n",
       "      <th>2005-01-01</th>\n",
       "      <td>31</td>\n",
       "    </tr>\n",
       "    <tr>\n",
       "      <th>2005-02-01</th>\n",
       "      <td>29</td>\n",
       "    </tr>\n",
       "    <tr>\n",
       "      <th>2005-03-01</th>\n",
       "      <td>27</td>\n",
       "    </tr>\n",
       "  </tbody>\n",
       "</table>\n",
       "</div>"
      ],
      "text/plain": [
       "            unemployment\n",
       "date                    \n",
       "2004-11-01            28\n",
       "2004-12-01            26\n",
       "2005-01-01            31\n",
       "2005-02-01            29\n",
       "2005-03-01            27"
      ]
     },
     "execution_count": 8,
     "metadata": {},
     "output_type": "execute_result"
    }
   ],
   "source": [
    "interest_over_time_df.head()"
   ]
  },
  {
   "cell_type": "code",
   "execution_count": 9,
   "metadata": {},
   "outputs": [
    {
     "data": {
      "image/png": "[encoded data removed]",
      "text/plain": [
       "<Figure size 432x288 with 1 Axes>"
      ]
     },
     "metadata": {
      "needs_background": "light"
     },
     "output_type": "display_data"
    }
   ],
   "source": [
    "plt.plot(interest_over_time_df['unemployment'])\n",
    "plt.show()"
   ]
  },
  {
   "cell_type": "code",
   "execution_count": 10,
   "metadata": {},
   "outputs": [],
   "source": [
    "## find related words/phrase with 'unemployment'\n",
    "related_queries_dict = pytrend.related_queries()\n",
    "kw_related_list = related_queries_dict['unemployment']['top']['query'][0:15]"
   ]
  },
  {
   "cell_type": "code",
   "execution_count": 11,
   "metadata": {},
   "outputs": [
    {
     "data": {
      "text/plain": [
       "0           unemployment rate\n",
       "1       unemployment benefits\n",
       "2         unemployment office\n",
       "3             unemployment pa\n",
       "4          claim unemployment\n",
       "5           ohio unemployment\n",
       "6             unemployment ny\n",
       "7            unemployment nys\n",
       "8        florida unemployment\n",
       "9      unemployment insurance\n",
       "10     unemployment extension\n",
       "11         unemployment texas\n",
       "12        unemployment number\n",
       "13            unemployment nj\n",
       "14    unemployment california\n",
       "Name: query, dtype: object"
      ]
     },
     "execution_count": 11,
     "metadata": {},
     "output_type": "execute_result"
    }
   ],
   "source": [
    "kw_related_list"
   ]
  },
  {
   "cell_type": "code",
   "execution_count": 12,
   "metadata": {},
   "outputs": [],
   "source": [
    "## pull out all the trends in the list above\n",
    "related_interest_over_time_df = pd.DataFrame()\n",
    "for kw in kw_related_list: \n",
    "    pytrend.build_payload(kw_list=[kw], timeframe = timeframe)\n",
    "    related_interest_over_time_df[kw] = pytrend.interest_over_time()[kw]\n",
    "trend_df = interest_over_time_df.merge(related_interest_over_time_df, left_index=True, right_index=True, how='inner')"
   ]
  },
  {
   "cell_type": "code",
   "execution_count": 14,
   "metadata": {},
   "outputs": [
    {
     "name": "stdout",
     "output_type": "stream",
     "text": [
      "(168, 16)\n",
      "            unemployment  unemployment rate  unemployment benefits  \\\n",
      "date                                                                 \n",
      "2004-11-01            28                 59                     15   \n",
      "2004-12-01            26                 42                     13   \n",
      "2005-01-01            31                 37                     17   \n",
      "2005-02-01            29                 49                     16   \n",
      "2005-03-01            27                 47                     14   \n",
      "\n",
      "            unemployment office  unemployment pa  claim unemployment  \\\n",
      "date                                                                   \n",
      "2004-11-01                   42               13                   9   \n",
      "2004-12-01                   42               17                  10   \n",
      "2005-01-01                   52               21                  10   \n",
      "2005-02-01                   46               20                   7   \n",
      "2005-03-01                   38               19                   7   \n",
      "\n",
      "            ohio unemployment  unemployment ny  unemployment nys  \\\n",
      "date                                                               \n",
      "2004-11-01                 14               22                10   \n",
      "2004-12-01                 10               16                10   \n",
      "2005-01-01                 15               23                12   \n",
      "2005-02-01                 14               21                15   \n",
      "2005-03-01                 15               17                13   \n",
      "\n",
      "            florida unemployment  unemployment insurance  \\\n",
      "date                                                       \n",
      "2004-11-01                    18                      53   \n",
      "2004-12-01                    21                      69   \n",
      "2005-01-01                    26                      81   \n",
      "2005-02-01                    19                      69   \n",
      "2005-03-01                    17                      64   \n",
      "\n",
      "            unemployment extension  unemployment texas  unemployment number  \\\n",
      "date                                                                          \n",
      "2004-11-01                       0                  27                   12   \n",
      "2004-12-01                       0                  17                    8   \n",
      "2005-01-01                       0                  28                   10   \n",
      "2005-02-01                       0                  30                    7   \n",
      "2005-03-01                       0                  27                   14   \n",
      "\n",
      "            unemployment nj  unemployment california  \n",
      "date                                                  \n",
      "2004-11-01               20                       38  \n",
      "2004-12-01               27                       38  \n",
      "2005-01-01               29                       44  \n",
      "2005-02-01               27                       43  \n",
      "2005-03-01               24                       39  \n"
     ]
    }
   ],
   "source": [
    "print(trend_df.shape)\n",
    "print(trend_df.head())"
   ]
  },
  {
   "cell_type": "markdown",
   "metadata": {},
   "source": [
    "## 2) unemployment rate data pull (from FRED https://fred.stlouisfed.org/series/UNRATE)"
   ]
  },
  {
   "cell_type": "code",
   "execution_count": 44,
   "metadata": {},
   "outputs": [],
   "source": [
    "## load data and select data from dates above\n",
    "unemploy_rate = pd.read_csv('unemployment_rate.csv')\n",
    "unemploy_rate['date'] = pd.to_datetime(unemploy_rate['date'])\n",
    "unemploy_rate = unemploy_rate.set_index('date')\n",
    "unemploy_rate_select = unemploy_rate.loc[unemploy_rate.index.isin(trend_df.index)]"
   ]
  },
  {
   "cell_type": "code",
   "execution_count": 47,
   "metadata": {},
   "outputs": [
    {
     "data": {
      "image/png": "[encoded data removed]",
      "text/plain": [
       "<Figure size 432x288 with 1 Axes>"
      ]
     },
     "metadata": {
      "needs_background": "light"
     },
     "output_type": "display_data"
    }
   ],
   "source": [
    "plt.plot(unemploy_rate_select['rate'])\n",
    "plt.show()"
   ]
  },
  {
   "cell_type": "code",
   "execution_count": 48,
   "metadata": {},
   "outputs": [
    {
     "name": "stdout",
     "output_type": "stream",
     "text": [
      "(168, 1)\n",
      "            rate\n",
      "date            \n",
      "2004-11-01   5.4\n",
      "2004-12-01   5.4\n",
      "2005-01-01   5.3\n",
      "2005-02-01   5.4\n",
      "2005-03-01   5.2\n"
     ]
    }
   ],
   "source": [
    "print(unemploy_rate_select.shape)\n",
    "print(unemploy_rate_select.head())"
   ]
  },
  {
   "cell_type": "code",
   "execution_count": 50,
   "metadata": {},
   "outputs": [
    {
     "data": {
      "image/png": "[encoded data removed]",
      "text/plain": [
       "<Figure size 432x288 with 1 Axes>"
      ]
     },
     "metadata": {
      "needs_background": "light"
     },
     "output_type": "display_data"
    }
   ],
   "source": [
    "plt.plot((unemploy_rate_select['rate']-unemploy_rate_select['rate'].min())/(unemploy_rate_select['rate'].max()-unemploy_rate_select['rate'].min()), label='unemployment_rate')\n",
    "plt.plot((interest_over_time_df['unemployment']-interest_over_time_df['unemployment'].min())/(interest_over_time_df['unemployment'].max()-interest_over_time_df['unemployment'].min()), label='google_trend')\n",
    "plt.legend(loc='upper left')\n",
    "plt.show()"
   ]
  },
  {
   "cell_type": "code",
   "execution_count": 51,
   "metadata": {},
   "outputs": [],
   "source": [
    "trend_df_select = trend_df.loc[trend_df.index.isin(unemploy_rate_select.index)]"
   ]
  },
  {
   "cell_type": "code",
   "execution_count": 52,
   "metadata": {},
   "outputs": [
    {
     "name": "stdout",
     "output_type": "stream",
     "text": [
      "(168, 16)\n",
      "            unemployment  unemployment rate  unemployment benefits  \\\n",
      "date                                                                 \n",
      "2004-11-01            28                 59                     15   \n",
      "2004-12-01            26                 42                     13   \n",
      "2005-01-01            31                 37                     17   \n",
      "2005-02-01            29                 49                     16   \n",
      "2005-03-01            27                 47                     14   \n",
      "\n",
      "            unemployment office  unemployment pa  claim unemployment  \\\n",
      "date                                                                   \n",
      "2004-11-01                   42               13                   9   \n",
      "2004-12-01                   42               17                  10   \n",
      "2005-01-01                   52               21                  10   \n",
      "2005-02-01                   46               20                   7   \n",
      "2005-03-01                   38               19                   7   \n",
      "\n",
      "            ohio unemployment  unemployment ny  unemployment nys  \\\n",
      "date                                                               \n",
      "2004-11-01                 14               22                10   \n",
      "2004-12-01                 10               16                10   \n",
      "2005-01-01                 15               23                12   \n",
      "2005-02-01                 14               21                15   \n",
      "2005-03-01                 15               17                13   \n",
      "\n",
      "            florida unemployment  unemployment insurance  \\\n",
      "date                                                       \n",
      "2004-11-01                    18                      53   \n",
      "2004-12-01                    21                      69   \n",
      "2005-01-01                    26                      81   \n",
      "2005-02-01                    19                      69   \n",
      "2005-03-01                    17                      64   \n",
      "\n",
      "            unemployment extension  unemployment texas  unemployment number  \\\n",
      "date                                                                          \n",
      "2004-11-01                       0                  27                   12   \n",
      "2004-12-01                       0                  17                    8   \n",
      "2005-01-01                       0                  28                   10   \n",
      "2005-02-01                       0                  30                    7   \n",
      "2005-03-01                       0                  27                   14   \n",
      "\n",
      "            unemployment nj  unemployment california  \n",
      "date                                                  \n",
      "2004-11-01               20                       38  \n",
      "2004-12-01               27                       38  \n",
      "2005-01-01               29                       44  \n",
      "2005-02-01               27                       43  \n",
      "2005-03-01               24                       39  \n"
     ]
    }
   ],
   "source": [
    "print(trend_df_select.shape)\n",
    "print(trend_df_select.head())"
   ]
  },
  {
   "cell_type": "markdown",
   "metadata": {},
   "source": [
    "### 3) regression model"
   ]
  },
  {
   "cell_type": "code",
   "execution_count": 53,
   "metadata": {},
   "outputs": [],
   "source": [
    "import numpy as np\n",
    "import statsmodels.api as sm"
   ]
  },
  {
   "cell_type": "code",
   "execution_count": 54,
   "metadata": {},
   "outputs": [],
   "source": [
    "## build a model using all trends\n",
    "trend_df_select= sm.add_constant(trend_df_select, prepend=False)\n",
    "mod = sm.OLS(unemploy_rate_select, trend_df_select)\n",
    "res = mod.fit()"
   ]
  },
  {
   "cell_type": "code",
   "execution_count": 56,
   "metadata": {},
   "outputs": [
    {
     "name": "stdout",
     "output_type": "stream",
     "text": [
      "                            OLS Regression Results                            \n",
      "==============================================================================\n",
      "Dep. Variable:                   rate   R-squared:                       0.962\n",
      "Model:                            OLS   Adj. R-squared:                  0.958\n",
      "Method:                 Least Squares   F-statistic:                     238.6\n",
      "Date:                Sun, 09 Dec 2018   Prob (F-statistic):           1.98e-98\n",
      "Time:                        19:58:38   Log-Likelihood:                -73.757\n",
      "No. Observations:                 168   AIC:                             181.5\n",
      "Df Residuals:                     151   BIC:                             234.6\n",
      "Df Model:                          16                                         \n",
      "Covariance Type:            nonrobust                                         \n",
      "===========================================================================================\n",
      "                              coef    std err          t      P>|t|      [0.025      0.975]\n",
      "-------------------------------------------------------------------------------------------\n",
      "unemployment                0.1154      0.032      3.592      0.000       0.052       0.179\n",
      "unemployment rate          -0.0044      0.006     -0.776      0.439      -0.016       0.007\n",
      "unemployment benefits      -0.0157      0.007     -2.359      0.020      -0.029      -0.003\n",
      "unemployment office        -0.0457      0.010     -4.569      0.000      -0.066      -0.026\n",
      "unemployment pa            -0.0010      0.010     -0.100      0.921      -0.022       0.020\n",
      "claim unemployment         -0.0170      0.008     -2.066      0.041      -0.033      -0.001\n",
      "ohio unemployment          -0.0155      0.009     -1.795      0.075      -0.033       0.002\n",
      "unemployment ny             0.0256      0.008      3.079      0.002       0.009       0.042\n",
      "unemployment nys           -0.0021      0.011     -0.196      0.845      -0.023       0.019\n",
      "florida unemployment        0.0336      0.009      3.916      0.000       0.017       0.051\n",
      "unemployment insurance     -0.0213      0.008     -2.676      0.008      -0.037      -0.006\n",
      "unemployment extension     -0.0490      0.011     -4.522      0.000      -0.070      -0.028\n",
      "unemployment texas          0.0195      0.008      2.598      0.010       0.005       0.034\n",
      "unemployment number        -0.0160      0.006     -2.818      0.005      -0.027      -0.005\n",
      "unemployment nj             0.0098      0.006      1.528      0.129      -0.003       0.022\n",
      "unemployment california     0.0209      0.011      1.959      0.052      -0.000       0.042\n",
      "const                       3.3881      0.232     14.617      0.000       2.930       3.846\n",
      "==============================================================================\n",
      "Omnibus:                        1.116   Durbin-Watson:                   1.042\n",
      "Prob(Omnibus):                  0.572   Jarque-Bera (JB):                1.223\n",
      "Skew:                          -0.167   Prob(JB):                        0.543\n",
      "Kurtosis:                       2.748   Cond. No.                     1.25e+03\n",
      "==============================================================================\n",
      "\n",
      "Warnings:\n",
      "[1] Standard Errors assume that the covariance matrix of the errors is correctly specified.\n",
      "[2] The condition number is large, 1.25e+03. This might indicate that there are\n",
      "strong multicollinearity or other numerical problems.\n"
     ]
    }
   ],
   "source": [
    "print(res.summary())"
   ]
  },
  {
   "cell_type": "code",
   "execution_count": 57,
   "metadata": {},
   "outputs": [],
   "source": [
    "## check multicollinearity\n",
    "vif = pd.DataFrame()\n",
    "vif[\"VIF Factor\"] = [variance_inflation_factor(trend_df_select.values, i) for i in range(trend_df_select.shape[1])]\n",
    "vif[\"features\"] = trend_df_select.columns"
   ]
  },
  {
   "cell_type": "code",
   "execution_count": 58,
   "metadata": {},
   "outputs": [
    {
     "data": {
      "text/html": [
       "<div>\n",
       "<style scoped>\n",
       "    .dataframe tbody tr th:only-of-type {\n",
       "        vertical-align: middle;\n",
       "    }\n",
       "\n",
       "    .dataframe tbody tr th {\n",
       "        vertical-align: top;\n",
       "    }\n",
       "\n",
       "    .dataframe thead th {\n",
       "        text-align: right;\n",
       "    }\n",
       "</style>\n",
       "<table border=\"1\" class=\"dataframe\">\n",
       "  <thead>\n",
       "    <tr style=\"text-align: right;\">\n",
       "      <th></th>\n",
       "      <th>VIF Factor</th>\n",
       "      <th>features</th>\n",
       "    </tr>\n",
       "  </thead>\n",
       "  <tbody>\n",
       "    <tr>\n",
       "      <th>0</th>\n",
       "      <td>321.659055</td>\n",
       "      <td>unemployment</td>\n",
       "    </tr>\n",
       "    <tr>\n",
       "      <th>8</th>\n",
       "      <td>62.651533</td>\n",
       "      <td>unemployment nys</td>\n",
       "    </tr>\n",
       "    <tr>\n",
       "      <th>16</th>\n",
       "      <td>57.587655</td>\n",
       "      <td>const</td>\n",
       "    </tr>\n",
       "    <tr>\n",
       "      <th>15</th>\n",
       "      <td>54.256952</td>\n",
       "      <td>unemployment california</td>\n",
       "    </tr>\n",
       "    <tr>\n",
       "      <th>4</th>\n",
       "      <td>53.866679</td>\n",
       "      <td>unemployment pa</td>\n",
       "    </tr>\n",
       "    <tr>\n",
       "      <th>5</th>\n",
       "      <td>41.441067</td>\n",
       "      <td>claim unemployment</td>\n",
       "    </tr>\n",
       "    <tr>\n",
       "      <th>7</th>\n",
       "      <td>37.617071</td>\n",
       "      <td>unemployment ny</td>\n",
       "    </tr>\n",
       "    <tr>\n",
       "      <th>6</th>\n",
       "      <td>36.794534</td>\n",
       "      <td>ohio unemployment</td>\n",
       "    </tr>\n",
       "    <tr>\n",
       "      <th>9</th>\n",
       "      <td>33.839736</td>\n",
       "      <td>florida unemployment</td>\n",
       "    </tr>\n",
       "    <tr>\n",
       "      <th>10</th>\n",
       "      <td>33.476683</td>\n",
       "      <td>unemployment insurance</td>\n",
       "    </tr>\n",
       "    <tr>\n",
       "      <th>13</th>\n",
       "      <td>22.325971</td>\n",
       "      <td>unemployment number</td>\n",
       "    </tr>\n",
       "    <tr>\n",
       "      <th>12</th>\n",
       "      <td>20.799321</td>\n",
       "      <td>unemployment texas</td>\n",
       "    </tr>\n",
       "    <tr>\n",
       "      <th>14</th>\n",
       "      <td>20.419827</td>\n",
       "      <td>unemployment nj</td>\n",
       "    </tr>\n",
       "    <tr>\n",
       "      <th>3</th>\n",
       "      <td>20.232917</td>\n",
       "      <td>unemployment office</td>\n",
       "    </tr>\n",
       "    <tr>\n",
       "      <th>2</th>\n",
       "      <td>18.370131</td>\n",
       "      <td>unemployment benefits</td>\n",
       "    </tr>\n",
       "    <tr>\n",
       "      <th>11</th>\n",
       "      <td>16.342647</td>\n",
       "      <td>unemployment extension</td>\n",
       "    </tr>\n",
       "    <tr>\n",
       "      <th>1</th>\n",
       "      <td>8.999437</td>\n",
       "      <td>unemployment rate</td>\n",
       "    </tr>\n",
       "  </tbody>\n",
       "</table>\n",
       "</div>"
      ],
      "text/plain": [
       "    VIF Factor                 features\n",
       "0   321.659055             unemployment\n",
       "8    62.651533         unemployment nys\n",
       "16   57.587655                    const\n",
       "15   54.256952  unemployment california\n",
       "4    53.866679          unemployment pa\n",
       "5    41.441067       claim unemployment\n",
       "7    37.617071          unemployment ny\n",
       "6    36.794534        ohio unemployment\n",
       "9    33.839736     florida unemployment\n",
       "10   33.476683   unemployment insurance\n",
       "13   22.325971      unemployment number\n",
       "12   20.799321       unemployment texas\n",
       "14   20.419827          unemployment nj\n",
       "3    20.232917      unemployment office\n",
       "2    18.370131    unemployment benefits\n",
       "11   16.342647   unemployment extension\n",
       "1     8.999437        unemployment rate"
      ]
     },
     "execution_count": 58,
     "metadata": {},
     "output_type": "execute_result"
    }
   ],
   "source": [
    "vif.sort_values(by='VIF Factor', ascending=False)"
   ]
  },
  {
   "cell_type": "code",
   "execution_count": 59,
   "metadata": {},
   "outputs": [],
   "source": [
    "## use 'unemployment' trend seems enough\n",
    "mod = sm.OLS(unemploy_rate_select, trend_df_select['unemployment'])\n",
    "res = mod.fit()"
   ]
  },
  {
   "cell_type": "code",
   "execution_count": 60,
   "metadata": {},
   "outputs": [
    {
     "name": "stdout",
     "output_type": "stream",
     "text": [
      "                            OLS Regression Results                            \n",
      "==============================================================================\n",
      "Dep. Variable:                   rate   R-squared:                       0.965\n",
      "Model:                            OLS   Adj. R-squared:                  0.964\n",
      "Method:                 Least Squares   F-statistic:                     4553.\n",
      "Date:                Sun, 09 Dec 2018   Prob (F-statistic):          4.19e-123\n",
      "Time:                        19:58:42   Log-Likelihood:                -274.38\n",
      "No. Observations:                 168   AIC:                             550.8\n",
      "Df Residuals:                     167   BIC:                             553.9\n",
      "Df Model:                           1                                         \n",
      "Covariance Type:            nonrobust                                         \n",
      "================================================================================\n",
      "                   coef    std err          t      P>|t|      [0.025      0.975]\n",
      "--------------------------------------------------------------------------------\n",
      "unemployment     0.1589      0.002     67.475      0.000       0.154       0.164\n",
      "==============================================================================\n",
      "Omnibus:                      103.351   Durbin-Watson:                   0.462\n",
      "Prob(Omnibus):                  0.000   Jarque-Bera (JB):              572.476\n",
      "Skew:                          -2.340   Prob(JB):                    4.88e-125\n",
      "Kurtosis:                      10.739   Cond. No.                         1.00\n",
      "==============================================================================\n",
      "\n",
      "Warnings:\n",
      "[1] Standard Errors assume that the covariance matrix of the errors is correctly specified.\n"
     ]
    }
   ],
   "source": [
    "print(res.summary())"
   ]
  },
  {
   "cell_type": "code",
   "execution_count": null,
   "metadata": {},
   "outputs": [],
   "source": []
  }
 ],
 "metadata": {
  "kernelspec": {
   "display_name": "Python 3",
   "language": "python",
   "name": "python3"
  },
  "language_info": {
   "codemirror_mode": {
    "name": "ipython",
    "version": 3
   },
   "file_extension": ".py",
   "mimetype": "text/x-python",
   "name": "python",
   "nbconvert_exporter": "python",
   "pygments_lexer": "ipython3",
   "version": "3.7.0"
  }
 },
 "nbformat": 4,
 "nbformat_minor": 2
}
