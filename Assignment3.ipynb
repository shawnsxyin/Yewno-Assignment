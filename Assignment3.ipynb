{
 "cells": [
  {
   "cell_type": "markdown",
   "metadata": {},
   "source": [
    "## Question 3"
   ]
  },
  {
   "cell_type": "markdown",
   "metadata": {},
   "source": [
    "### Exchange Rate Prediction"
   ]
  },
  {
   "cell_type": "markdown",
   "metadata": {},
   "source": [
    "a) Data source: news data\n",
    "\n",
    "b) Compare to the other macroeconomics indexes, or compare to those time series methods, I think using the news data, or text data like Twitter could be more effective on predicting the foreign exchange rate. For example, we can obviously see that how USD/CNY rate changes because of the trade war between USA and China, and one of the way to learn or to recognize the trade war is to learn from the news. Yes, increase tariff might impact import/export, and then impact foreign exchange rate, but there is always a gap between the announcement and the excutive, and at that period, the foreign exchange rate will be changed. The most straightforward way to grab the information from this period is to catch the news. We can scrape the news about this topic for each day, doing some sentiment analysis, and see how the FX rate change with the sentiment change, or build a deep learning model on the text data to predict the FX rate. \n",
    "\n",
    "c) Test if the difference between FX rate and the text data series is stable around the mean when time changes. \n",
    "\n",
    "d) When President Trump announced another 200 billion tariff on Chinese good, USD/CNY continued falling, and this is something we can catch from the news data. "
   ]
  },
  {
   "cell_type": "code",
   "execution_count": null,
   "metadata": {},
   "outputs": [],
   "source": []
  }
 ],
 "metadata": {
  "kernelspec": {
   "display_name": "Python 3",
   "language": "python",
   "name": "python3"
  },
  "language_info": {
   "codemirror_mode": {
    "name": "ipython",
    "version": 3
   },
   "file_extension": ".py",
   "mimetype": "text/x-python",
   "name": "python",
   "nbconvert_exporter": "python",
   "pygments_lexer": "ipython3",
   "version": "3.7.0"
  }
 },
 "nbformat": 4,
 "nbformat_minor": 2
}
